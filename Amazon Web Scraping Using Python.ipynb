{
 "cells": [
  {
   "cell_type": "code",
   "execution_count": 1,
   "id": "79571cd3",
   "metadata": {},
   "outputs": [],
   "source": [
    "# Import libraries\n",
    "\n",
    "from bs4 import BeautifulSoup\n",
    "import requests\n",
    "import time\n",
    "import datetime\n",
    "import smtplib"
   ]
  },
  {
   "cell_type": "code",
   "execution_count": 2,
   "id": "4a20e8c3",
   "metadata": {},
   "outputs": [
    {
     "name": "stdout",
     "output_type": "stream",
     "text": [
      "\n",
      "              Samsung Galaxy S24 Ultra 5G AI Smartphone (Titanium Black, 12GB, 256GB Storage)\n",
      "             \n",
      "\n",
      "                                  1,29,999\n",
      "                                  \n",
      "                                   .\n",
      "                                  \n",
      "\n"
     ]
    }
   ],
   "source": [
    "# Connect to website\n",
    "\n",
    "url = \"https://www.amazon.in/Samsung-Galaxy-Smartphone-Titanium-Storage/dp/B0CS5Z3T4M/ref=sr_1_1_sspa?crid=6SG3VHHKMYYK&dib=eyJ2IjoiMSJ9.ayH29MDnPrCdz5dB7L_4w077Rq97ss2X_aTmd0PtAWezIGh9N4w9GfMTwNFh6AMibXBagXV7u_RF8Gli3RHtA-geUrJAkxma09V-e385cUt7ShwuOXNG7jhymuinV2jE2T19gJlrDMFilM_Q45t0IdGaG-EdtKtPIm2DjNNxTLrUgx_sr-UGV4X27_1cQj2uB7WO3OEDNW9-pvSFlccms0v8Y3EM-Ze7nWqpybRBMp4.dHCRfDQiY7689rzhm9A5rli48u-ZFxGq-EwBqpfDTcE&dib_tag=se&keywords=samsung%2Bs24&qid=1715251316&sprefix=samsung%2Bs24%2Caps%2C237&sr=8-1-spons&sp_csd=d2lkZ2V0TmFtZT1zcF9hdGY&th=1\"\n",
    "headers = {\"User-Agent\": \"Mozilla/5.0 (Windows NT 10.0; Win64; x64) AppleWebKit/537.36 (KHTML, like Gecko) Chrome/124.0.0.0 Safari/537.36\", \"Accept-Encoding\":\"gzip, deflate\", \"Accept\":\"text/html,application/xhtml+xml,application/xml;q=0.9,*/*;q=0.8\", \"DNT\":\"1\",\"Connection\":\"close\", \"Upgrade-Insecure-Requests\":\"1\"}\n",
    "\n",
    "page = requests.get(url, headers=headers)\n",
    "\n",
    "soup1 = BeautifulSoup(page.content, \"html.parser\")\n",
    "soup2 = BeautifulSoup(soup1.prettify(), \"html.parser\")\n",
    "\n",
    "title = soup2.find(id=\"productTitle\").get_text()\n",
    "price = soup2.find('span', {'class': 'a-price-whole'}).get_text()\n",
    "\n",
    "print(title)\n",
    "print(price)\n",
    "\n",
    "\n",
    "\n",
    "\n",
    "\n",
    "\n",
    "\n",
    " "
   ]
  },
  {
   "cell_type": "code",
   "execution_count": 3,
   "id": "f2f6a1a1",
   "metadata": {},
   "outputs": [
    {
     "name": "stdout",
     "output_type": "stream",
     "text": [
      "Samsung Galaxy S24 Ultra 5G AI Smartphone (Titanium Black, 12GB, 256GB Storage)\n",
      "1,29,999\n"
     ]
    }
   ],
   "source": [
    "price = price.strip()[:8]\n",
    "title = title.strip()\n",
    "\n",
    "print(title)\n",
    "print(price)"
   ]
  },
  {
   "cell_type": "code",
   "execution_count": 4,
   "id": "d7d90cec",
   "metadata": {},
   "outputs": [
    {
     "name": "stdout",
     "output_type": "stream",
     "text": [
      "2024-05-10\n"
     ]
    }
   ],
   "source": [
    "import datetime\n",
    "\n",
    "today = datetime.date.today()\n",
    "print(today)"
   ]
  },
  {
   "cell_type": "code",
   "execution_count": 5,
   "id": "e481e1d2",
   "metadata": {},
   "outputs": [],
   "source": [
    "#Create csv and insert header and data\n",
    "\n",
    "import csv\n",
    "\n",
    "header = ['Title', 'Price','Date']\n",
    "data = [title, price, today]\n",
    "\n",
    "with open('AmazonWebScraperDataset.csv', 'w', newline='', encoding = 'UTF8') as f:\n",
    "    writer = csv.writer(f)\n",
    "    writer.writerow(header)\n",
    "    writer.writerow(data)\n",
    "    \n"
   ]
  },
  {
   "cell_type": "code",
   "execution_count": 6,
   "id": "dcd2a155",
   "metadata": {},
   "outputs": [
    {
     "data": {
      "text/html": [
       "<div>\n",
       "<style scoped>\n",
       "    .dataframe tbody tr th:only-of-type {\n",
       "        vertical-align: middle;\n",
       "    }\n",
       "\n",
       "    .dataframe tbody tr th {\n",
       "        vertical-align: top;\n",
       "    }\n",
       "\n",
       "    .dataframe thead th {\n",
       "        text-align: right;\n",
       "    }\n",
       "</style>\n",
       "<table border=\"1\" class=\"dataframe\">\n",
       "  <thead>\n",
       "    <tr style=\"text-align: right;\">\n",
       "      <th></th>\n",
       "      <th>Title</th>\n",
       "      <th>Price</th>\n",
       "      <th>Date</th>\n",
       "    </tr>\n",
       "  </thead>\n",
       "  <tbody>\n",
       "    <tr>\n",
       "      <th>0</th>\n",
       "      <td>Samsung Galaxy S24 Ultra 5G AI Smartphone (Tit...</td>\n",
       "      <td>1,29,999</td>\n",
       "      <td>2024-05-10</td>\n",
       "    </tr>\n",
       "  </tbody>\n",
       "</table>\n",
       "</div>"
      ],
      "text/plain": [
       "                                               Title     Price        Date\n",
       "0  Samsung Galaxy S24 Ultra 5G AI Smartphone (Tit...  1,29,999  2024-05-10"
      ]
     },
     "execution_count": 6,
     "metadata": {},
     "output_type": "execute_result"
    }
   ],
   "source": [
    "import pandas as pd\n",
    "\n",
    "df = pd.read_csv(r'C:\\Users\\jigme\\Coursera Projects\\AmazonWebScraperDataset.csv')\n",
    "df\n"
   ]
  },
  {
   "cell_type": "code",
   "execution_count": 7,
   "id": "02624239",
   "metadata": {},
   "outputs": [],
   "source": [
    "#Append the data to the csv\n",
    "\n",
    "with open('AmazonWebScraperDataset.csv', 'a+', newline='', encoding = 'UTF8') as f:\n",
    "    writer = csv.writer(f)\n",
    "    writer.writerow(data)"
   ]
  },
  {
   "cell_type": "code",
   "execution_count": 8,
   "id": "740d8892",
   "metadata": {},
   "outputs": [],
   "source": [
    "# Automating the task to check the price of the product very 5 seconds\n",
    "\n",
    "def check_price():\n",
    "    \n",
    "    url = \"https://www.amazon.in/Samsung-Galaxy-Smartphone-Titanium-Storage/dp/B0CS5Z3T4M/ref=sr_1_1_sspa?crid=6SG3VHHKMYYK&dib=eyJ2IjoiMSJ9.ayH29MDnPrCdz5dB7L_4w077Rq97ss2X_aTmd0PtAWezIGh9N4w9GfMTwNFh6AMibXBagXV7u_RF8Gli3RHtA-geUrJAkxma09V-e385cUt7ShwuOXNG7jhymuinV2jE2T19gJlrDMFilM_Q45t0IdGaG-EdtKtPIm2DjNNxTLrUgx_sr-UGV4X27_1cQj2uB7WO3OEDNW9-pvSFlccms0v8Y3EM-Ze7nWqpybRBMp4.dHCRfDQiY7689rzhm9A5rli48u-ZFxGq-EwBqpfDTcE&dib_tag=se&keywords=samsung%2Bs24&qid=1715251316&sprefix=samsung%2Bs24%2Caps%2C237&sr=8-1-spons&sp_csd=d2lkZ2V0TmFtZT1zcF9hdGY&th=1\"\n",
    "    headers = {\"User-Agent\": \"Mozilla/5.0 (Windows NT 10.0; Win64; x64) AppleWebKit/537.36 (KHTML, like Gecko) Chrome/124.0.0.0 Safari/537.36\", \"Accept-Encoding\":\"gzip, deflate\", \"Accept\":\"text/html,application/xhtml+xml,application/xml;q=0.9,*/*;q=0.8\", \"DNT\":\"1\",\"Connection\":\"close\", \"Upgrade-Insecure-Requests\":\"1\"}\n",
    "\n",
    "    page = requests.get(url, headers=headers)\n",
    "\n",
    "    soup1 = BeautifulSoup(page.content, \"html.parser\")\n",
    "    soup2 = BeautifulSoup(soup1.prettify(), \"html.parser\")\n",
    "\n",
    "    title = soup2.find(id=\"productTitle\").get_text()\n",
    "    price = soup2.find('span', {'class': 'a-price-whole'}).get_text()\n",
    "    \n",
    "    price = price.strip()[:8]\n",
    "    title = title.strip()\n",
    "    \n",
    "    import datetime\n",
    "\n",
    "    today = datetime.date.today()\n",
    "    \n",
    "    import csv\n",
    "\n",
    "    header = ['Title', 'Price','Date']\n",
    "    data = [title, price, today]\n",
    "    \n",
    "    with open('AmazonWebScraperDataset.csv', 'a+', newline='', encoding = 'UTF8') as f:\n",
    "        writer = csv.writer(f)\n",
    "        writer.writerow(data)\n",
    "    \n",
    "    \n",
    "\n",
    "    \n",
    "    "
   ]
  },
  {
   "cell_type": "code",
   "execution_count": null,
   "id": "11660089",
   "metadata": {},
   "outputs": [],
   "source": [
    "#Checking the price every 5 seconds\n",
    "\n",
    "while(True):\n",
    "    check_price()\n",
    "    time.sleep(5)"
   ]
  },
  {
   "cell_type": "code",
   "execution_count": 10,
   "id": "652b571d",
   "metadata": {},
   "outputs": [
    {
     "data": {
      "text/html": [
       "<div>\n",
       "<style scoped>\n",
       "    .dataframe tbody tr th:only-of-type {\n",
       "        vertical-align: middle;\n",
       "    }\n",
       "\n",
       "    .dataframe tbody tr th {\n",
       "        vertical-align: top;\n",
       "    }\n",
       "\n",
       "    .dataframe thead th {\n",
       "        text-align: right;\n",
       "    }\n",
       "</style>\n",
       "<table border=\"1\" class=\"dataframe\">\n",
       "  <thead>\n",
       "    <tr style=\"text-align: right;\">\n",
       "      <th></th>\n",
       "      <th>Title</th>\n",
       "      <th>Price</th>\n",
       "      <th>Date</th>\n",
       "    </tr>\n",
       "  </thead>\n",
       "  <tbody>\n",
       "    <tr>\n",
       "      <th>0</th>\n",
       "      <td>Samsung Galaxy S24 Ultra 5G AI Smartphone (Tit...</td>\n",
       "      <td>1,29,999</td>\n",
       "      <td>2024-05-10</td>\n",
       "    </tr>\n",
       "    <tr>\n",
       "      <th>1</th>\n",
       "      <td>Samsung Galaxy S24 Ultra 5G AI Smartphone (Tit...</td>\n",
       "      <td>1,29,999</td>\n",
       "      <td>2024-05-10</td>\n",
       "    </tr>\n",
       "    <tr>\n",
       "      <th>2</th>\n",
       "      <td>Samsung Galaxy S24 Ultra 5G AI Smartphone (Tit...</td>\n",
       "      <td>1,29,999</td>\n",
       "      <td>2024-05-10</td>\n",
       "    </tr>\n",
       "    <tr>\n",
       "      <th>3</th>\n",
       "      <td>Samsung Galaxy S24 Ultra 5G AI Smartphone (Tit...</td>\n",
       "      <td>1,29,999</td>\n",
       "      <td>2024-05-10</td>\n",
       "    </tr>\n",
       "    <tr>\n",
       "      <th>4</th>\n",
       "      <td>Samsung Galaxy S24 Ultra 5G AI Smartphone (Tit...</td>\n",
       "      <td>1,29,999</td>\n",
       "      <td>2024-05-10</td>\n",
       "    </tr>\n",
       "    <tr>\n",
       "      <th>5</th>\n",
       "      <td>Samsung Galaxy S24 Ultra 5G AI Smartphone (Tit...</td>\n",
       "      <td>1,29,999</td>\n",
       "      <td>2024-05-10</td>\n",
       "    </tr>\n",
       "    <tr>\n",
       "      <th>6</th>\n",
       "      <td>Samsung Galaxy S24 Ultra 5G AI Smartphone (Tit...</td>\n",
       "      <td>1,29,999</td>\n",
       "      <td>2024-05-10</td>\n",
       "    </tr>\n",
       "  </tbody>\n",
       "</table>\n",
       "</div>"
      ],
      "text/plain": [
       "                                               Title     Price        Date\n",
       "0  Samsung Galaxy S24 Ultra 5G AI Smartphone (Tit...  1,29,999  2024-05-10\n",
       "1  Samsung Galaxy S24 Ultra 5G AI Smartphone (Tit...  1,29,999  2024-05-10\n",
       "2  Samsung Galaxy S24 Ultra 5G AI Smartphone (Tit...  1,29,999  2024-05-10\n",
       "3  Samsung Galaxy S24 Ultra 5G AI Smartphone (Tit...  1,29,999  2024-05-10\n",
       "4  Samsung Galaxy S24 Ultra 5G AI Smartphone (Tit...  1,29,999  2024-05-10\n",
       "5  Samsung Galaxy S24 Ultra 5G AI Smartphone (Tit...  1,29,999  2024-05-10\n",
       "6  Samsung Galaxy S24 Ultra 5G AI Smartphone (Tit...  1,29,999  2024-05-10"
      ]
     },
     "execution_count": 10,
     "metadata": {},
     "output_type": "execute_result"
    }
   ],
   "source": [
    "import pandas as pd\n",
    "\n",
    "df = pd.read_csv(r'C:\\Users\\jigme\\Coursera Projects\\AmazonWebScraperDataset.csv')\n",
    "df"
   ]
  }
 ],
 "metadata": {
  "kernelspec": {
   "display_name": "Python 3 (ipykernel)",
   "language": "python",
   "name": "python3"
  },
  "language_info": {
   "codemirror_mode": {
    "name": "ipython",
    "version": 3
   },
   "file_extension": ".py",
   "mimetype": "text/x-python",
   "name": "python",
   "nbconvert_exporter": "python",
   "pygments_lexer": "ipython3",
   "version": "3.11.5"
  }
 },
 "nbformat": 4,
 "nbformat_minor": 5
}
